{
 "cells": [
  {
   "cell_type": "markdown",
   "id": "62ce3cbc",
   "metadata": {},
   "source": [
    "## Como criar uma String"
   ]
  },
  {
   "cell_type": "markdown",
   "id": "11e6d597",
   "metadata": {},
   "source": [
    "#### Para criar uma string pode se usar aspas simples ou dupla"
   ]
  },
  {
   "cell_type": "code",
   "execution_count": 1,
   "id": "82ba80f6",
   "metadata": {},
   "outputs": [
    {
     "data": {
      "text/plain": [
       "'Oi'"
      ]
     },
     "execution_count": 1,
     "metadata": {},
     "output_type": "execute_result"
    }
   ],
   "source": [
    "# Pode ser uma palavra\n",
    "'Oi'"
   ]
  },
  {
   "cell_type": "code",
   "execution_count": 2,
   "id": "1dd7c22c",
   "metadata": {},
   "outputs": [
    {
     "data": {
      "text/plain": [
       "'Ola, sou uma string'"
      ]
     },
     "execution_count": 2,
     "metadata": {},
     "output_type": "execute_result"
    }
   ],
   "source": [
    "# Uma frase\n",
    "'Ola, sou uma string'"
   ]
  },
  {
   "cell_type": "code",
   "execution_count": 3,
   "id": "fcd8e0df",
   "metadata": {},
   "outputs": [
    {
     "data": {
      "text/plain": [
       "'Oi denovo'"
      ]
     },
     "execution_count": 3,
     "metadata": {},
     "output_type": "execute_result"
    }
   ],
   "source": [
    "# Com aspas duplas\n",
    "\"Oi denovo\""
   ]
  },
  {
   "cell_type": "code",
   "execution_count": 4,
   "id": "7c1e5882",
   "metadata": {},
   "outputs": [
    {
     "data": {
      "text/plain": [
       "'Ola, sou uma string denovo'"
      ]
     },
     "execution_count": 4,
     "metadata": {},
     "output_type": "execute_result"
    }
   ],
   "source": [
    "# Com aspas duplas\n",
    "\"Ola, sou uma string denovo\""
   ]
  },
  {
   "cell_type": "code",
   "execution_count": 5,
   "id": "26f13545",
   "metadata": {},
   "outputs": [
    {
     "data": {
      "text/plain": [
       "\"Eu sou uma 'string' nas aspas duplas\""
      ]
     },
     "execution_count": 5,
     "metadata": {},
     "output_type": "execute_result"
    }
   ],
   "source": [
    "# Pode se usar aspas simples dentro da dupla para fazer outra string\n",
    "\"Eu sou uma 'string' nas aspas duplas\""
   ]
  },
  {
   "cell_type": "markdown",
   "id": "3e9dda76",
   "metadata": {},
   "source": [
    "## Imprimindo uma string"
   ]
  },
  {
   "cell_type": "code",
   "execution_count": 6,
   "id": "c65c35df",
   "metadata": {},
   "outputs": [
    {
     "name": "stdout",
     "output_type": "stream",
     "text": [
      "Ola, sou uma string\n"
     ]
    }
   ],
   "source": [
    "print('Ola, sou uma string')"
   ]
  },
  {
   "cell_type": "code",
   "execution_count": 13,
   "id": "b16d26fe",
   "metadata": {},
   "outputs": [
    {
     "name": "stdout",
     "output_type": "stream",
     "text": [
      "Ola, \n",
      "sou \n",
      "uma \n",
      "string\n"
     ]
    }
   ],
   "source": [
    "print('Ola, \\nsou \\numa \\nstring')"
   ]
  },
  {
   "cell_type": "code",
   "execution_count": 17,
   "id": "5a1137d4",
   "metadata": {},
   "outputs": [
    {
     "name": "stdout",
     "output_type": "stream",
     "text": [
      "\n",
      "\n"
     ]
    }
   ],
   "source": [
    "print('\\n')"
   ]
  },
  {
   "cell_type": "markdown",
   "id": "110654c5",
   "metadata": {},
   "source": [
    "## Indexando uma string"
   ]
  },
  {
   "cell_type": "code",
   "execution_count": 53,
   "id": "76c51dd5",
   "metadata": {},
   "outputs": [],
   "source": [
    "\"\"\" Coloquei o underline para que a letra A seja o indice numero 1, e dessa forma saberemos qual é a 25° \n",
    "do alfabento por exeplo \"\"\"\n",
    "\n",
    "alfabeto = '_abcdefghijklmnopqrstuvwxyz'"
   ]
  },
  {
   "cell_type": "code",
   "execution_count": 47,
   "id": "446c0484",
   "metadata": {},
   "outputs": [
    {
     "name": "stdout",
     "output_type": "stream",
     "text": [
      "_abcdefghijklmnopqrstuvwxyz\n"
     ]
    }
   ],
   "source": [
    "print(alfabeto)"
   ]
  },
  {
   "cell_type": "code",
   "execution_count": 48,
   "id": "4e1035c4",
   "metadata": {},
   "outputs": [
    {
     "data": {
      "text/plain": [
       "'_'"
      ]
     },
     "execution_count": 48,
     "metadata": {},
     "output_type": "execute_result"
    }
   ],
   "source": [
    "alfabeto[0]"
   ]
  },
  {
   "cell_type": "code",
   "execution_count": 49,
   "id": "b700c95b",
   "metadata": {},
   "outputs": [
    {
     "data": {
      "text/plain": [
       "'a'"
      ]
     },
     "execution_count": 49,
     "metadata": {},
     "output_type": "execute_result"
    }
   ],
   "source": [
    "alfabeto[1]"
   ]
  },
  {
   "cell_type": "code",
   "execution_count": 50,
   "id": "a2f5554d",
   "metadata": {},
   "outputs": [
    {
     "data": {
      "text/plain": [
       "'v'"
      ]
     },
     "execution_count": 50,
     "metadata": {},
     "output_type": "execute_result"
    }
   ],
   "source": [
    "alfabeto[22]"
   ]
  },
  {
   "cell_type": "code",
   "execution_count": 51,
   "id": "b817f1b7",
   "metadata": {},
   "outputs": [
    {
     "data": {
      "text/plain": [
       "'z'"
      ]
     },
     "execution_count": 51,
     "metadata": {},
     "output_type": "execute_result"
    }
   ],
   "source": [
    "alfabeto[26]"
   ]
  },
  {
   "cell_type": "code",
   "execution_count": null,
   "id": "b2259f48",
   "metadata": {},
   "outputs": [],
   "source": []
  }
 ],
 "metadata": {
  "kernelspec": {
   "display_name": "Python 3",
   "language": "python",
   "name": "python3"
  },
  "language_info": {
   "codemirror_mode": {
    "name": "ipython",
    "version": 3
   },
   "file_extension": ".py",
   "mimetype": "text/x-python",
   "name": "python",
   "nbconvert_exporter": "python",
   "pygments_lexer": "ipython3",
   "version": "3.8.8"
  }
 },
 "nbformat": 4,
 "nbformat_minor": 5
}
