{
 "cells": [
  {
   "cell_type": "markdown",
   "id": "0f08cd43",
   "metadata": {},
   "source": [
    "<h1 style=\"color: red;\"> Iniciando o Notebook do Zero </h1>"
   ]
  },
  {
   "cell_type": "markdown",
   "id": "df958062",
   "metadata": {},
   "source": [
    "<h3 style=\"color: green;\"> Operações </h3>"
   ]
  },
  {
   "cell_type": "code",
   "execution_count": 1,
   "id": "d2b16c2f",
   "metadata": {},
   "outputs": [
    {
     "data": {
      "text/plain": [
       "5"
      ]
     },
     "execution_count": 1,
     "metadata": {},
     "output_type": "execute_result"
    }
   ],
   "source": [
    "# Soma\n",
    "2 + 3"
   ]
  },
  {
   "cell_type": "code",
   "execution_count": 2,
   "id": "535820d0",
   "metadata": {},
   "outputs": [
    {
     "data": {
      "text/plain": [
       "12"
      ]
     },
     "execution_count": 2,
     "metadata": {},
     "output_type": "execute_result"
    }
   ],
   "source": [
    "# Subtração\n",
    "20 - 8"
   ]
  },
  {
   "cell_type": "code",
   "execution_count": 3,
   "id": "9380c8c1",
   "metadata": {},
   "outputs": [
    {
     "data": {
      "text/plain": [
       "81"
      ]
     },
     "execution_count": 3,
     "metadata": {},
     "output_type": "execute_result"
    }
   ],
   "source": [
    "# Multiplicação\n",
    "9 * 9"
   ]
  },
  {
   "cell_type": "code",
   "execution_count": 4,
   "id": "a1af32e2",
   "metadata": {},
   "outputs": [
    {
     "data": {
      "text/plain": [
       "2.0"
      ]
     },
     "execution_count": 4,
     "metadata": {},
     "output_type": "execute_result"
    }
   ],
   "source": [
    "# Divisão \n",
    "20 / 10"
   ]
  },
  {
   "cell_type": "code",
   "execution_count": 5,
   "id": "e894f1b4",
   "metadata": {},
   "outputs": [
    {
     "data": {
      "text/plain": [
       "16"
      ]
     },
     "execution_count": 5,
     "metadata": {},
     "output_type": "execute_result"
    }
   ],
   "source": [
    "# Potência\n",
    "2 ** 4"
   ]
  },
  {
   "cell_type": "code",
   "execution_count": 6,
   "id": "a0a5f849",
   "metadata": {},
   "outputs": [
    {
     "data": {
      "text/plain": [
       "2"
      ]
     },
     "execution_count": 6,
     "metadata": {},
     "output_type": "execute_result"
    }
   ],
   "source": [
    "# Módulo \n",
    "10 % 8"
   ]
  },
  {
   "cell_type": "markdown",
   "id": "a626759d",
   "metadata": {},
   "source": [
    "<h3 style=\"color: green;\"> Funções </h3>"
   ]
  },
  {
   "cell_type": "code",
   "execution_count": 7,
   "id": "bcb59cf9",
   "metadata": {},
   "outputs": [
    {
     "data": {
      "text/plain": [
       "int"
      ]
     },
     "execution_count": 7,
     "metadata": {},
     "output_type": "execute_result"
    }
   ],
   "source": [
    "type(5)"
   ]
  },
  {
   "cell_type": "code",
   "execution_count": 8,
   "id": "6c3b3007",
   "metadata": {},
   "outputs": [
    {
     "data": {
      "text/plain": [
       "float"
      ]
     },
     "execution_count": 8,
     "metadata": {},
     "output_type": "execute_result"
    }
   ],
   "source": [
    "type(5.1)"
   ]
  },
  {
   "cell_type": "code",
   "execution_count": 9,
   "id": "16c9c11c",
   "metadata": {},
   "outputs": [
    {
     "data": {
      "text/plain": [
       "str"
      ]
     },
     "execution_count": 9,
     "metadata": {},
     "output_type": "execute_result"
    }
   ],
   "source": [
    "a = 'Eu sou uma String'\n",
    "type(a)"
   ]
  },
  {
   "cell_type": "markdown",
   "id": "4f8c0dd0",
   "metadata": {},
   "source": [
    "<h3 style=\"color: green;\"> Operações com número float </h3>"
   ]
  },
  {
   "cell_type": "code",
   "execution_count": 10,
   "id": "5aec9181",
   "metadata": {},
   "outputs": [
    {
     "data": {
      "text/plain": [
       "8.5"
      ]
     },
     "execution_count": 10,
     "metadata": {},
     "output_type": "execute_result"
    }
   ],
   "source": [
    "# Resultado em float\n",
    "2.1 + 6.4"
   ]
  },
  {
   "cell_type": "code",
   "execution_count": 11,
   "id": "2397094a",
   "metadata": {},
   "outputs": [
    {
     "data": {
      "text/plain": [
       "6.4"
      ]
     },
     "execution_count": 11,
     "metadata": {},
     "output_type": "execute_result"
    }
   ],
   "source": [
    "# Resultado em float\n",
    "4 + 2.4"
   ]
  },
  {
   "cell_type": "code",
   "execution_count": 12,
   "id": "23c3ec68",
   "metadata": {},
   "outputs": [
    {
     "data": {
      "text/plain": [
       "2.0"
      ]
     },
     "execution_count": 12,
     "metadata": {},
     "output_type": "execute_result"
    }
   ],
   "source": [
    "# Resultado em float (/)\n",
    "8 / 4"
   ]
  },
  {
   "cell_type": "code",
   "execution_count": 13,
   "id": "a6e46c2a",
   "metadata": {},
   "outputs": [
    {
     "data": {
      "text/plain": [
       "2"
      ]
     },
     "execution_count": 13,
     "metadata": {},
     "output_type": "execute_result"
    }
   ],
   "source": [
    "# Resultado em numero int (//)\n",
    "8 // 4"
   ]
  },
  {
   "cell_type": "code",
   "execution_count": 14,
   "id": "0944d40d",
   "metadata": {},
   "outputs": [
    {
     "data": {
      "text/plain": [
       "1.3333333333333333"
      ]
     },
     "execution_count": 14,
     "metadata": {},
     "output_type": "execute_result"
    }
   ],
   "source": [
    "# Divisão por float resultado em float\n",
    "4 / 3.0"
   ]
  },
  {
   "cell_type": "code",
   "execution_count": 15,
   "id": "66ba5a83",
   "metadata": {},
   "outputs": [
    {
     "data": {
      "text/plain": [
       "1.0"
      ]
     },
     "execution_count": 15,
     "metadata": {},
     "output_type": "execute_result"
    }
   ],
   "source": [
    "# Divisão por float com // resultado em float\n",
    "4 // 3.0"
   ]
  },
  {
   "cell_type": "markdown",
   "id": "2d94ba10",
   "metadata": {},
   "source": [
    "<h3 style=\"color: green;\"> Conversão float </h3>"
   ]
  },
  {
   "cell_type": "code",
   "execution_count": 16,
   "id": "271230d6",
   "metadata": {},
   "outputs": [
    {
     "data": {
      "text/plain": [
       "9.0"
      ]
     },
     "execution_count": 16,
     "metadata": {},
     "output_type": "execute_result"
    }
   ],
   "source": [
    "float(9)"
   ]
  },
  {
   "cell_type": "code",
   "execution_count": 17,
   "id": "02366fab",
   "metadata": {},
   "outputs": [
    {
     "data": {
      "text/plain": [
       "8"
      ]
     },
     "execution_count": 17,
     "metadata": {},
     "output_type": "execute_result"
    }
   ],
   "source": [
    "# A função int não arredonta o numero mas sim coleta a sua parte inteira\n",
    "int(8.4)"
   ]
  },
  {
   "cell_type": "markdown",
   "id": "d4514cc5",
   "metadata": {},
   "source": [
    "<h3 style=\"color: green;\"> Hexadecimal ou Binário </h3>"
   ]
  },
  {
   "cell_type": "code",
   "execution_count": 18,
   "id": "38c5f5fd",
   "metadata": {},
   "outputs": [
    {
     "data": {
      "text/plain": [
       "'0x9'"
      ]
     },
     "execution_count": 18,
     "metadata": {},
     "output_type": "execute_result"
    }
   ],
   "source": [
    "hex(9)"
   ]
  },
  {
   "cell_type": "code",
   "execution_count": 19,
   "id": "771fd9f4",
   "metadata": {},
   "outputs": [
    {
     "data": {
      "text/plain": [
       "'0b10111'"
      ]
     },
     "execution_count": 19,
     "metadata": {},
     "output_type": "execute_result"
    }
   ],
   "source": [
    "bin(23)"
   ]
  },
  {
   "cell_type": "markdown",
   "id": "307a7129",
   "metadata": {},
   "source": [
    "<h3 style=\"color: green;\"> Funçaõ abs, round e pow </h3>"
   ]
  },
  {
   "cell_type": "code",
   "execution_count": 20,
   "id": "46dc25f7",
   "metadata": {},
   "outputs": [
    {
     "data": {
      "text/plain": [
       "9"
      ]
     },
     "execution_count": 20,
     "metadata": {},
     "output_type": "execute_result"
    }
   ],
   "source": [
    "# Retorna o valor absoluto\n",
    "abs(-9)"
   ]
  },
  {
   "cell_type": "code",
   "execution_count": 21,
   "id": "629398ac",
   "metadata": {},
   "outputs": [
    {
     "data": {
      "text/plain": [
       "20.321"
      ]
     },
     "execution_count": 21,
     "metadata": {},
     "output_type": "execute_result"
    }
   ],
   "source": [
    "# Retorna o valor arredondado, depois da virgula se coloca o paramentro de quantas casas decimais voce quer o arrendodamento\n",
    "round(20.321345, 3)"
   ]
  },
  {
   "cell_type": "code",
   "execution_count": 22,
   "id": "85e9ff85",
   "metadata": {},
   "outputs": [
    {
     "data": {
      "text/plain": [
       "16"
      ]
     },
     "execution_count": 22,
     "metadata": {},
     "output_type": "execute_result"
    }
   ],
   "source": [
    "# Mesma coisa da opeção 4 ** 2\n",
    "pow(4,2)"
   ]
  },
  {
   "cell_type": "markdown",
   "id": "99e30255",
   "metadata": {},
   "source": [
    "<h1 style=\"color: pink;\"> Consegui :) </h1>"
   ]
  },
  {
   "cell_type": "code",
   "execution_count": 24,
   "id": "7a7258d1",
   "metadata": {},
   "outputs": [
    {
     "name": "stdout",
     "output_type": "stream",
     "text": [
      "Hello Word\n"
     ]
    }
   ],
   "source": [
    "print(\"Hello Word\")"
   ]
  },
  {
   "cell_type": "code",
   "execution_count": null,
   "id": "9d4bad4c",
   "metadata": {},
   "outputs": [],
   "source": []
  }
 ],
 "metadata": {
  "kernelspec": {
   "display_name": "Python 3",
   "language": "python",
   "name": "python3"
  },
  "language_info": {
   "codemirror_mode": {
    "name": "ipython",
    "version": 3
   },
   "file_extension": ".py",
   "mimetype": "text/x-python",
   "name": "python",
   "nbconvert_exporter": "python",
   "pygments_lexer": "ipython3",
   "version": "3.8.8"
  }
 },
 "nbformat": 4,
 "nbformat_minor": 5
}
