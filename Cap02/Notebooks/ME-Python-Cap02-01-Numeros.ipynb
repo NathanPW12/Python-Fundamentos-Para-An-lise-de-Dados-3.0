{
 "cells": [
  {
   "cell_type": "markdown",
   "id": "0f08cd43",
   "metadata": {},
   "source": [
    "<h1 style=\"color: red;\"> Iniciando o Notebook do Zero </h1>"
   ]
  },
  {
   "cell_type": "markdown",
   "id": "df958062",
   "metadata": {},
   "source": [
    "<h3 style=\"color: green;\"> Operações </h3>"
   ]
  },
  {
   "cell_type": "code",
   "execution_count": null,
   "id": "d2b16c2f",
   "metadata": {},
   "outputs": [],
   "source": [
    "# Soma\n",
    "2 + 3"
   ]
  },
  {
   "cell_type": "code",
   "execution_count": null,
   "id": "535820d0",
   "metadata": {},
   "outputs": [],
   "source": [
    "# Subtração\n",
    "20 - 8"
   ]
  },
  {
   "cell_type": "code",
   "execution_count": null,
   "id": "9380c8c1",
   "metadata": {},
   "outputs": [],
   "source": [
    "# Multiplicação\n",
    "9 * 9"
   ]
  },
  {
   "cell_type": "code",
   "execution_count": null,
   "id": "a1af32e2",
   "metadata": {},
   "outputs": [],
   "source": [
    "# Divisão \n",
    "20 / 10"
   ]
  },
  {
   "cell_type": "code",
   "execution_count": null,
   "id": "e894f1b4",
   "metadata": {},
   "outputs": [],
   "source": [
    "# Potência\n",
    "2 ** 4"
   ]
  },
  {
   "cell_type": "code",
   "execution_count": null,
   "id": "a0a5f849",
   "metadata": {},
   "outputs": [],
   "source": [
    "# Módulo \n",
    "10 % 8"
   ]
  },
  {
   "cell_type": "markdown",
   "id": "a626759d",
   "metadata": {},
   "source": [
    "<h3 style=\"color: green;\"> Funções </h3>"
   ]
  },
  {
   "cell_type": "code",
   "execution_count": null,
   "id": "bcb59cf9",
   "metadata": {},
   "outputs": [],
   "source": [
    "type(5)"
   ]
  },
  {
   "cell_type": "code",
   "execution_count": null,
   "id": "6c3b3007",
   "metadata": {},
   "outputs": [],
   "source": [
    "type(5.1)"
   ]
  },
  {
   "cell_type": "code",
   "execution_count": null,
   "id": "16c9c11c",
   "metadata": {},
   "outputs": [],
   "source": [
    "a = 'Eu sou uma String'\n",
    "type(a)"
   ]
  },
  {
   "cell_type": "markdown",
   "id": "4f8c0dd0",
   "metadata": {},
   "source": [
    "<h3 style=\"color: green;\"> Operações com número float </h3>"
   ]
  },
  {
   "cell_type": "code",
   "execution_count": null,
   "id": "5aec9181",
   "metadata": {},
   "outputs": [],
   "source": [
    "# Resultado em float\n",
    "2.1 + 6.4"
   ]
  },
  {
   "cell_type": "code",
   "execution_count": null,
   "id": "2397094a",
   "metadata": {},
   "outputs": [],
   "source": [
    "# Resultado em float\n",
    "4 + 2.4"
   ]
  },
  {
   "cell_type": "code",
   "execution_count": null,
   "id": "23c3ec68",
   "metadata": {},
   "outputs": [],
   "source": [
    "# Resultado em float (/)\n",
    "8 / 4"
   ]
  },
  {
   "cell_type": "code",
   "execution_count": null,
   "id": "a6e46c2a",
   "metadata": {},
   "outputs": [],
   "source": [
    "# Resultado em numero int (//)\n",
    "8 // 4"
   ]
  },
  {
   "cell_type": "code",
   "execution_count": null,
   "id": "0944d40d",
   "metadata": {},
   "outputs": [],
   "source": [
    "# Divisão por float resultado em float\n",
    "4 / 3.0"
   ]
  },
  {
   "cell_type": "code",
   "execution_count": null,
   "id": "66ba5a83",
   "metadata": {},
   "outputs": [],
   "source": [
    "# Divisão por float com // resultado em float\n",
    "4 // 3.0"
   ]
  },
  {
   "cell_type": "markdown",
   "id": "2d94ba10",
   "metadata": {},
   "source": [
    "<h3 style=\"color: green;\"> Conversão float </h3>"
   ]
  },
  {
   "cell_type": "code",
   "execution_count": null,
   "id": "271230d6",
   "metadata": {},
   "outputs": [],
   "source": [
    "float(9)"
   ]
  },
  {
   "cell_type": "code",
   "execution_count": null,
   "id": "02366fab",
   "metadata": {},
   "outputs": [],
   "source": [
    "# A função int não arredonta o numero mas sim coleta a sua parte inteira\n",
    "int(8.4)"
   ]
  },
  {
   "cell_type": "markdown",
   "id": "d4514cc5",
   "metadata": {},
   "source": [
    "<h3 style=\"color: green;\"> Hexadecimal ou Binário </h3>"
   ]
  },
  {
   "cell_type": "code",
   "execution_count": null,
   "id": "38c5f5fd",
   "metadata": {},
   "outputs": [],
   "source": [
    "hex(9)"
   ]
  },
  {
   "cell_type": "code",
   "execution_count": null,
   "id": "771fd9f4",
   "metadata": {},
   "outputs": [],
   "source": [
    "bin(23)"
   ]
  },
  {
   "cell_type": "markdown",
   "id": "307a7129",
   "metadata": {},
   "source": [
    "<h3 style=\"color: green;\"> Funçaõ abs, round e pow </h3>"
   ]
  },
  {
   "cell_type": "code",
   "execution_count": null,
   "id": "46dc25f7",
   "metadata": {},
   "outputs": [],
   "source": [
    "# Retorna o valor absoluto\n",
    "abs(-9)"
   ]
  },
  {
   "cell_type": "code",
   "execution_count": null,
   "id": "629398ac",
   "metadata": {},
   "outputs": [],
   "source": [
    "# Retorna o valor arredondado, depois da virgula se coloca o paramentro de quantas casas decimais voce quer o arrendodamento\n",
    "round(20.321345, 3)"
   ]
  },
  {
   "cell_type": "code",
   "execution_count": null,
   "id": "85e9ff85",
   "metadata": {},
   "outputs": [],
   "source": [
    "# Mesma coisa da opeção 4 ** 2\n",
    "pow(4,2)"
   ]
  },
  {
   "cell_type": "markdown",
   "id": "99e30255",
   "metadata": {},
   "source": [
    "<h1 style=\"color: pink;\"> Consegui :) </h1>"
   ]
  },
  {
   "cell_type": "code",
   "execution_count": null,
   "id": "7a7258d1",
   "metadata": {},
   "outputs": [],
   "source": [
    "print(\"Hello Word\")"
   ]
  },
  {
   "cell_type": "code",
   "execution_count": null,
   "id": "9d4bad4c",
   "metadata": {},
   "outputs": [],
   "source": []
  }
 ],
 "metadata": {
  "kernelspec": {
   "display_name": "Python 3",
   "language": "python",
   "name": "python3"
  },
  "language_info": {
   "codemirror_mode": {
    "name": "ipython",
    "version": 3
   },
   "file_extension": ".py",
   "mimetype": "text/x-python",
   "name": "python",
   "nbconvert_exporter": "python",
   "pygments_lexer": "ipython3",
   "version": "3.8.8"
  }
 },
 "nbformat": 4,
 "nbformat_minor": 5
}
