{
 "cells": [
  {
   "cell_type": "markdown",
   "id": "0dde8050",
   "metadata": {},
   "source": [
    "<h1 style= \"color: red;\"> Variáveis e Operadores </h1>"
   ]
  },
  {
   "cell_type": "code",
   "execution_count": 1,
   "id": "fc1cff55",
   "metadata": {},
   "outputs": [],
   "source": [
    "# Atribuindo o valor 1 á variavel var_1\n",
    "var_1 = 1 "
   ]
  },
  {
   "cell_type": "code",
   "execution_count": 2,
   "id": "8682ad44",
   "metadata": {},
   "outputs": [
    {
     "data": {
      "text/plain": [
       "1"
      ]
     },
     "execution_count": 2,
     "metadata": {},
     "output_type": "execute_result"
    }
   ],
   "source": [
    "# Imprimindo o valor de var_1 \n",
    "var_1"
   ]
  },
  {
   "cell_type": "code",
   "execution_count": 3,
   "id": "33ba475b",
   "metadata": {},
   "outputs": [
    {
     "name": "stdout",
     "output_type": "stream",
     "text": [
      "1\n"
     ]
    }
   ],
   "source": [
    "# Imprimindo o valor de var_1 \n",
    "print(var_1)"
   ]
  },
  {
   "cell_type": "code",
   "execution_count": 4,
   "id": "72affdb1",
   "metadata": {},
   "outputs": [
    {
     "ename": "NameError",
     "evalue": "name 'var_z' is not defined",
     "output_type": "error",
     "traceback": [
      "\u001b[1;31m---------------------------------------------------------------------------\u001b[0m",
      "\u001b[1;31mNameError\u001b[0m                                 Traceback (most recent call last)",
      "\u001b[1;32m<ipython-input-4-3a914d25a213>\u001b[0m in \u001b[0;36m<module>\u001b[1;34m\u001b[0m\n\u001b[0;32m      1\u001b[0m \u001b[1;31m# Erro de variavel nao definida \"name 'var_z' is not defined\"\u001b[0m\u001b[1;33m\u001b[0m\u001b[1;33m\u001b[0m\u001b[1;33m\u001b[0m\u001b[0m\n\u001b[1;32m----> 2\u001b[1;33m \u001b[0mvar_z\u001b[0m\u001b[1;33m\u001b[0m\u001b[1;33m\u001b[0m\u001b[0m\n\u001b[0m",
      "\u001b[1;31mNameError\u001b[0m: name 'var_z' is not defined"
     ]
    }
   ],
   "source": [
    "# Erro de variavel nao definida \"name 'var_z' is not defined\"\n",
    "var_z "
   ]
  },
  {
   "cell_type": "code",
   "execution_count": 5,
   "id": "9f05fb3a",
   "metadata": {},
   "outputs": [],
   "source": [
    "var_2 = 2"
   ]
  },
  {
   "cell_type": "code",
   "execution_count": 6,
   "id": "5c68ac80",
   "metadata": {},
   "outputs": [
    {
     "data": {
      "text/plain": [
       "int"
      ]
     },
     "execution_count": 6,
     "metadata": {},
     "output_type": "execute_result"
    }
   ],
   "source": [
    "type(var_2)"
   ]
  },
  {
   "cell_type": "code",
   "execution_count": 7,
   "id": "f612d201",
   "metadata": {},
   "outputs": [],
   "source": [
    "var_3_2 = 3.2"
   ]
  },
  {
   "cell_type": "code",
   "execution_count": 8,
   "id": "5f5bf646",
   "metadata": {},
   "outputs": [
    {
     "data": {
      "text/plain": [
       "float"
      ]
     },
     "execution_count": 8,
     "metadata": {},
     "output_type": "execute_result"
    }
   ],
   "source": [
    "type(var_3_2)"
   ]
  },
  {
   "cell_type": "code",
   "execution_count": 9,
   "id": "52855323",
   "metadata": {},
   "outputs": [],
   "source": [
    "a = 20"
   ]
  },
  {
   "cell_type": "code",
   "execution_count": 10,
   "id": "9b750228",
   "metadata": {},
   "outputs": [
    {
     "data": {
      "text/plain": [
       "20"
      ]
     },
     "execution_count": 10,
     "metadata": {},
     "output_type": "execute_result"
    }
   ],
   "source": [
    "a"
   ]
  },
  {
   "cell_type": "markdown",
   "id": "f0161958",
   "metadata": {},
   "source": [
    "<h1 style= \"color: red;\"> Declaração Multipla </h1>"
   ]
  },
  {
   "cell_type": "code",
   "execution_count": 11,
   "id": "2d180d72",
   "metadata": {},
   "outputs": [],
   "source": [
    "pessoa1, pessoa2, pessoa3 = \"Nathan\", \"Esther\", \"Dani\""
   ]
  },
  {
   "cell_type": "code",
   "execution_count": 12,
   "id": "eec743c7",
   "metadata": {},
   "outputs": [
    {
     "data": {
      "text/plain": [
       "'Nathan'"
      ]
     },
     "execution_count": 12,
     "metadata": {},
     "output_type": "execute_result"
    }
   ],
   "source": [
    "pessoa1"
   ]
  },
  {
   "cell_type": "code",
   "execution_count": 13,
   "id": "196b980e",
   "metadata": {},
   "outputs": [
    {
     "data": {
      "text/plain": [
       "'Esther'"
      ]
     },
     "execution_count": 13,
     "metadata": {},
     "output_type": "execute_result"
    }
   ],
   "source": [
    "pessoa2"
   ]
  },
  {
   "cell_type": "code",
   "execution_count": 14,
   "id": "7db15ed2",
   "metadata": {},
   "outputs": [
    {
     "data": {
      "text/plain": [
       "'Dani'"
      ]
     },
     "execution_count": 14,
     "metadata": {},
     "output_type": "execute_result"
    }
   ],
   "source": [
    "pessoa3"
   ]
  },
  {
   "cell_type": "code",
   "execution_count": 15,
   "id": "f967d8a8",
   "metadata": {},
   "outputs": [],
   "source": [
    "azul_claro = azul_escuro = azul_bebe = \"É um tom de azul\""
   ]
  },
  {
   "cell_type": "code",
   "execution_count": 16,
   "id": "15898c88",
   "metadata": {},
   "outputs": [
    {
     "data": {
      "text/plain": [
       "'É um tom de azul'"
      ]
     },
     "execution_count": 16,
     "metadata": {},
     "output_type": "execute_result"
    }
   ],
   "source": [
    "azul_claro"
   ]
  },
  {
   "cell_type": "code",
   "execution_count": 17,
   "id": "97195f95",
   "metadata": {},
   "outputs": [
    {
     "data": {
      "text/plain": [
       "'É um tom de azul'"
      ]
     },
     "execution_count": 17,
     "metadata": {},
     "output_type": "execute_result"
    }
   ],
   "source": [
    "azul_escuro"
   ]
  },
  {
   "cell_type": "code",
   "execution_count": 18,
   "id": "3b5f799c",
   "metadata": {},
   "outputs": [
    {
     "data": {
      "text/plain": [
       "'É um tom de azul'"
      ]
     },
     "execution_count": 18,
     "metadata": {},
     "output_type": "execute_result"
    }
   ],
   "source": [
    "azul_bebe"
   ]
  },
  {
   "cell_type": "markdown",
   "id": "f4553aad",
   "metadata": {},
   "source": [
    "<h1 style= \"color: green;\"> Variaveis atribuidas a outras variaveis e ordem dos operadores </h1>"
   ]
  },
  {
   "cell_type": "code",
   "execution_count": 19,
   "id": "9e664f2f",
   "metadata": {},
   "outputs": [],
   "source": [
    "largura = 2"
   ]
  },
  {
   "cell_type": "code",
   "execution_count": 20,
   "id": "c98f0b6e",
   "metadata": {},
   "outputs": [],
   "source": [
    "altura = 3"
   ]
  },
  {
   "cell_type": "code",
   "execution_count": 21,
   "id": "06118ae7",
   "metadata": {},
   "outputs": [],
   "source": [
    "area = altura * largura"
   ]
  },
  {
   "cell_type": "code",
   "execution_count": 22,
   "id": "cd78b661",
   "metadata": {},
   "outputs": [
    {
     "data": {
      "text/plain": [
       "6"
      ]
     },
     "execution_count": 22,
     "metadata": {},
     "output_type": "execute_result"
    }
   ],
   "source": [
    "area"
   ]
  },
  {
   "cell_type": "code",
   "execution_count": 23,
   "id": "c1747ad0",
   "metadata": {},
   "outputs": [],
   "source": [
    "perimetro = 2 * largura + 2 * altura"
   ]
  },
  {
   "cell_type": "code",
   "execution_count": 24,
   "id": "898953ba",
   "metadata": {},
   "outputs": [
    {
     "data": {
      "text/plain": [
       "10"
      ]
     },
     "execution_count": 24,
     "metadata": {},
     "output_type": "execute_result"
    }
   ],
   "source": [
    "perimetro"
   ]
  },
  {
   "cell_type": "code",
   "execution_count": 25,
   "id": "3e769158",
   "metadata": {},
   "outputs": [],
   "source": [
    "# A ordem dos operadores é a mesma seguida na matematica\n",
    "perimetro2 = 2 * (largura + 2) * altura"
   ]
  },
  {
   "cell_type": "code",
   "execution_count": 26,
   "id": "8c7b62df",
   "metadata": {},
   "outputs": [
    {
     "data": {
      "text/plain": [
       "24"
      ]
     },
     "execution_count": 26,
     "metadata": {},
     "output_type": "execute_result"
    }
   ],
   "source": [
    "perimetro2"
   ]
  },
  {
   "cell_type": "markdown",
   "id": "52dd7f57",
   "metadata": {},
   "source": [
    "<h1 style= \"color: pink;\"> Operações com variáveis  </h1>"
   ]
  },
  {
   "cell_type": "code",
   "execution_count": 27,
   "id": "f4e93559",
   "metadata": {},
   "outputs": [],
   "source": [
    "idade1 = 25"
   ]
  },
  {
   "cell_type": "code",
   "execution_count": 28,
   "id": "37e4f36c",
   "metadata": {},
   "outputs": [],
   "source": [
    "idade2 = 35"
   ]
  },
  {
   "cell_type": "code",
   "execution_count": 29,
   "id": "d184519f",
   "metadata": {},
   "outputs": [
    {
     "data": {
      "text/plain": [
       "60"
      ]
     },
     "execution_count": 29,
     "metadata": {},
     "output_type": "execute_result"
    }
   ],
   "source": [
    "idade1 + idade2"
   ]
  },
  {
   "cell_type": "code",
   "execution_count": 30,
   "id": "a6ae7bb4",
   "metadata": {},
   "outputs": [
    {
     "data": {
      "text/plain": [
       "10"
      ]
     },
     "execution_count": 30,
     "metadata": {},
     "output_type": "execute_result"
    }
   ],
   "source": [
    "idade2 - idade1"
   ]
  },
  {
   "cell_type": "code",
   "execution_count": 31,
   "id": "96712889",
   "metadata": {},
   "outputs": [
    {
     "data": {
      "text/plain": [
       "875"
      ]
     },
     "execution_count": 31,
     "metadata": {},
     "output_type": "execute_result"
    }
   ],
   "source": [
    "idade2 * idade1"
   ]
  },
  {
   "cell_type": "code",
   "execution_count": 32,
   "id": "96a92536",
   "metadata": {},
   "outputs": [
    {
     "data": {
      "text/plain": [
       "1.4"
      ]
     },
     "execution_count": 32,
     "metadata": {},
     "output_type": "execute_result"
    }
   ],
   "source": [
    "idade2 / idade1"
   ]
  },
  {
   "cell_type": "code",
   "execution_count": 33,
   "id": "e943a208",
   "metadata": {},
   "outputs": [
    {
     "data": {
      "text/plain": [
       "10"
      ]
     },
     "execution_count": 33,
     "metadata": {},
     "output_type": "execute_result"
    }
   ],
   "source": [
    "idade2 % idade1"
   ]
  },
  {
   "cell_type": "markdown",
   "id": "534bbe1e",
   "metadata": {},
   "source": [
    "<h1 style= \"color: Purple;\"> Concatenação de Variáveis   </h1>"
   ]
  },
  {
   "cell_type": "code",
   "execution_count": 34,
   "id": "bf755118",
   "metadata": {},
   "outputs": [],
   "source": [
    "nome = \"Nathan\""
   ]
  },
  {
   "cell_type": "code",
   "execution_count": 35,
   "id": "c97ed6b8",
   "metadata": {},
   "outputs": [],
   "source": [
    "sobrenome = \"Vitor\""
   ]
  },
  {
   "cell_type": "code",
   "execution_count": 36,
   "id": "03e27f50",
   "metadata": {},
   "outputs": [],
   "source": [
    "nomecompleto = nome + sobrenome"
   ]
  },
  {
   "cell_type": "code",
   "execution_count": 37,
   "id": "200a46f5",
   "metadata": {},
   "outputs": [
    {
     "data": {
      "text/plain": [
       "'NathanVitor'"
      ]
     },
     "execution_count": 37,
     "metadata": {},
     "output_type": "execute_result"
    }
   ],
   "source": [
    "nomecompleto"
   ]
  },
  {
   "cell_type": "code",
   "execution_count": 38,
   "id": "89217f99",
   "metadata": {},
   "outputs": [],
   "source": [
    "nome_completo_com_espaço = nome + \" \" + sobrenome"
   ]
  },
  {
   "cell_type": "code",
   "execution_count": 39,
   "id": "99704ea6",
   "metadata": {},
   "outputs": [
    {
     "data": {
      "text/plain": [
       "'Nathan Vitor'"
      ]
     },
     "execution_count": 39,
     "metadata": {},
     "output_type": "execute_result"
    }
   ],
   "source": [
    "nome_completo_com_espaço "
   ]
  }
 ],
 "metadata": {
  "kernelspec": {
   "display_name": "Python 3",
   "language": "python",
   "name": "python3"
  },
  "language_info": {
   "codemirror_mode": {
    "name": "ipython",
    "version": 3
   },
   "file_extension": ".py",
   "mimetype": "text/x-python",
   "name": "python",
   "nbconvert_exporter": "python",
   "pygments_lexer": "ipython3",
   "version": "3.8.8"
  }
 },
 "nbformat": 4,
 "nbformat_minor": 5
}
